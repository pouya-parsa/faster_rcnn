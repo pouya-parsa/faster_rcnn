{
  "nbformat": 4,
  "nbformat_minor": 0,
  "metadata": {
    "colab": {
      "name": "faster_rcnn.ipynb",
      "provenance": [],
      "collapsed_sections": [
        "SBigJLTRfZGa",
        "UhJD-BM2pir5",
        "ge4ZFmb0OGxP",
        "HBWpd4HIN0WD",
        "7om054x-N3xf",
        "1AQQn2bUagSy",
        "FyPeSVoGr9RQ",
        "mLvma6uouSGx",
        "1ThTR51yyqrI",
        "-xqA1t7lDUYV",
        "PYki6lDX9aPY",
        "FFtmE4lJ9nOg",
        "jzMBRir59pY7",
        "RQXJ7qyTBgnU",
        "8gtPEwWobJ1V",
        "qYpSvma60TJA",
        "TwnliDqB0WlY",
        "w7vDb6T136Wp",
        "LkgZeYTdGcfY"
      ]
    },
    "kernelspec": {
      "name": "python3",
      "display_name": "Python 3"
    },
    "language_info": {
      "name": "python"
    },
    "widgets": {
      "application/vnd.jupyter.widget-state+json": {
        "18d1aa59ad4d4bc287ca60c29ad6b125": {
          "model_module": "@jupyter-widgets/controls",
          "model_name": "HBoxModel",
          "model_module_version": "1.5.0",
          "state": {
            "_view_name": "HBoxView",
            "_dom_classes": [],
            "_model_name": "HBoxModel",
            "_view_module": "@jupyter-widgets/controls",
            "_model_module_version": "1.5.0",
            "_view_count": null,
            "_view_module_version": "1.5.0",
            "box_style": "",
            "layout": "IPY_MODEL_f553ccee357547fc898b6f6d2b3e91ee",
            "_model_module": "@jupyter-widgets/controls",
            "children": [
              "IPY_MODEL_830591e3853c40a682ce85368df072f2",
              "IPY_MODEL_a734028b42dc44e38ecd5ef0ddc3df15",
              "IPY_MODEL_01454cc78cd04f18ad43c427b630c7ed"
            ]
          }
        },
        "f553ccee357547fc898b6f6d2b3e91ee": {
          "model_module": "@jupyter-widgets/base",
          "model_name": "LayoutModel",
          "model_module_version": "1.2.0",
          "state": {
            "_view_name": "LayoutView",
            "grid_template_rows": null,
            "right": null,
            "justify_content": null,
            "_view_module": "@jupyter-widgets/base",
            "overflow": null,
            "_model_module_version": "1.2.0",
            "_view_count": null,
            "flex_flow": null,
            "width": null,
            "min_width": null,
            "border": null,
            "align_items": null,
            "bottom": null,
            "_model_module": "@jupyter-widgets/base",
            "top": null,
            "grid_column": null,
            "overflow_y": null,
            "overflow_x": null,
            "grid_auto_flow": null,
            "grid_area": null,
            "grid_template_columns": null,
            "flex": null,
            "_model_name": "LayoutModel",
            "justify_items": null,
            "grid_row": null,
            "max_height": null,
            "align_content": null,
            "visibility": null,
            "align_self": null,
            "height": null,
            "min_height": null,
            "padding": null,
            "grid_auto_rows": null,
            "grid_gap": null,
            "max_width": null,
            "order": null,
            "_view_module_version": "1.2.0",
            "grid_template_areas": null,
            "object_position": null,
            "object_fit": null,
            "grid_auto_columns": null,
            "margin": null,
            "display": null,
            "left": null
          }
        },
        "830591e3853c40a682ce85368df072f2": {
          "model_module": "@jupyter-widgets/controls",
          "model_name": "HTMLModel",
          "model_module_version": "1.5.0",
          "state": {
            "_view_name": "HTMLView",
            "style": "IPY_MODEL_0e3cb15e046a45a78a313cea2189120d",
            "_dom_classes": [],
            "description": "",
            "_model_name": "HTMLModel",
            "placeholder": "​",
            "_view_module": "@jupyter-widgets/controls",
            "_model_module_version": "1.5.0",
            "value": "100%",
            "_view_count": null,
            "_view_module_version": "1.5.0",
            "description_tooltip": null,
            "_model_module": "@jupyter-widgets/controls",
            "layout": "IPY_MODEL_1f3d15cf1e8d4180b9fc825250a7db05"
          }
        },
        "a734028b42dc44e38ecd5ef0ddc3df15": {
          "model_module": "@jupyter-widgets/controls",
          "model_name": "FloatProgressModel",
          "model_module_version": "1.5.0",
          "state": {
            "_view_name": "ProgressView",
            "style": "IPY_MODEL_7d5ddeae229148d185c3ed3c76f0181f",
            "_dom_classes": [],
            "description": "",
            "_model_name": "FloatProgressModel",
            "bar_style": "success",
            "max": 22500,
            "_view_module": "@jupyter-widgets/controls",
            "_model_module_version": "1.5.0",
            "value": 22500,
            "_view_count": null,
            "_view_module_version": "1.5.0",
            "orientation": "horizontal",
            "min": 0,
            "description_tooltip": null,
            "_model_module": "@jupyter-widgets/controls",
            "layout": "IPY_MODEL_2a58fe90cbb34c728e5cde417e283381"
          }
        },
        "01454cc78cd04f18ad43c427b630c7ed": {
          "model_module": "@jupyter-widgets/controls",
          "model_name": "HTMLModel",
          "model_module_version": "1.5.0",
          "state": {
            "_view_name": "HTMLView",
            "style": "IPY_MODEL_6115e80cfd074ce9964e69835e864688",
            "_dom_classes": [],
            "description": "",
            "_model_name": "HTMLModel",
            "placeholder": "​",
            "_view_module": "@jupyter-widgets/controls",
            "_model_module_version": "1.5.0",
            "value": " 22500/22500 [00:00&lt;00:00, 59896.56it/s]",
            "_view_count": null,
            "_view_module_version": "1.5.0",
            "description_tooltip": null,
            "_model_module": "@jupyter-widgets/controls",
            "layout": "IPY_MODEL_34f034a1409b45eaabcb63841f9c5a66"
          }
        },
        "0e3cb15e046a45a78a313cea2189120d": {
          "model_module": "@jupyter-widgets/controls",
          "model_name": "DescriptionStyleModel",
          "model_module_version": "1.5.0",
          "state": {
            "_view_name": "StyleView",
            "_model_name": "DescriptionStyleModel",
            "description_width": "",
            "_view_module": "@jupyter-widgets/base",
            "_model_module_version": "1.5.0",
            "_view_count": null,
            "_view_module_version": "1.2.0",
            "_model_module": "@jupyter-widgets/controls"
          }
        },
        "1f3d15cf1e8d4180b9fc825250a7db05": {
          "model_module": "@jupyter-widgets/base",
          "model_name": "LayoutModel",
          "model_module_version": "1.2.0",
          "state": {
            "_view_name": "LayoutView",
            "grid_template_rows": null,
            "right": null,
            "justify_content": null,
            "_view_module": "@jupyter-widgets/base",
            "overflow": null,
            "_model_module_version": "1.2.0",
            "_view_count": null,
            "flex_flow": null,
            "width": null,
            "min_width": null,
            "border": null,
            "align_items": null,
            "bottom": null,
            "_model_module": "@jupyter-widgets/base",
            "top": null,
            "grid_column": null,
            "overflow_y": null,
            "overflow_x": null,
            "grid_auto_flow": null,
            "grid_area": null,
            "grid_template_columns": null,
            "flex": null,
            "_model_name": "LayoutModel",
            "justify_items": null,
            "grid_row": null,
            "max_height": null,
            "align_content": null,
            "visibility": null,
            "align_self": null,
            "height": null,
            "min_height": null,
            "padding": null,
            "grid_auto_rows": null,
            "grid_gap": null,
            "max_width": null,
            "order": null,
            "_view_module_version": "1.2.0",
            "grid_template_areas": null,
            "object_position": null,
            "object_fit": null,
            "grid_auto_columns": null,
            "margin": null,
            "display": null,
            "left": null
          }
        },
        "7d5ddeae229148d185c3ed3c76f0181f": {
          "model_module": "@jupyter-widgets/controls",
          "model_name": "ProgressStyleModel",
          "model_module_version": "1.5.0",
          "state": {
            "_view_name": "StyleView",
            "_model_name": "ProgressStyleModel",
            "description_width": "",
            "_view_module": "@jupyter-widgets/base",
            "_model_module_version": "1.5.0",
            "_view_count": null,
            "_view_module_version": "1.2.0",
            "bar_color": null,
            "_model_module": "@jupyter-widgets/controls"
          }
        },
        "2a58fe90cbb34c728e5cde417e283381": {
          "model_module": "@jupyter-widgets/base",
          "model_name": "LayoutModel",
          "model_module_version": "1.2.0",
          "state": {
            "_view_name": "LayoutView",
            "grid_template_rows": null,
            "right": null,
            "justify_content": null,
            "_view_module": "@jupyter-widgets/base",
            "overflow": null,
            "_model_module_version": "1.2.0",
            "_view_count": null,
            "flex_flow": null,
            "width": null,
            "min_width": null,
            "border": null,
            "align_items": null,
            "bottom": null,
            "_model_module": "@jupyter-widgets/base",
            "top": null,
            "grid_column": null,
            "overflow_y": null,
            "overflow_x": null,
            "grid_auto_flow": null,
            "grid_area": null,
            "grid_template_columns": null,
            "flex": null,
            "_model_name": "LayoutModel",
            "justify_items": null,
            "grid_row": null,
            "max_height": null,
            "align_content": null,
            "visibility": null,
            "align_self": null,
            "height": null,
            "min_height": null,
            "padding": null,
            "grid_auto_rows": null,
            "grid_gap": null,
            "max_width": null,
            "order": null,
            "_view_module_version": "1.2.0",
            "grid_template_areas": null,
            "object_position": null,
            "object_fit": null,
            "grid_auto_columns": null,
            "margin": null,
            "display": null,
            "left": null
          }
        },
        "6115e80cfd074ce9964e69835e864688": {
          "model_module": "@jupyter-widgets/controls",
          "model_name": "DescriptionStyleModel",
          "model_module_version": "1.5.0",
          "state": {
            "_view_name": "StyleView",
            "_model_name": "DescriptionStyleModel",
            "description_width": "",
            "_view_module": "@jupyter-widgets/base",
            "_model_module_version": "1.5.0",
            "_view_count": null,
            "_view_module_version": "1.2.0",
            "_model_module": "@jupyter-widgets/controls"
          }
        },
        "34f034a1409b45eaabcb63841f9c5a66": {
          "model_module": "@jupyter-widgets/base",
          "model_name": "LayoutModel",
          "model_module_version": "1.2.0",
          "state": {
            "_view_name": "LayoutView",
            "grid_template_rows": null,
            "right": null,
            "justify_content": null,
            "_view_module": "@jupyter-widgets/base",
            "overflow": null,
            "_model_module_version": "1.2.0",
            "_view_count": null,
            "flex_flow": null,
            "width": null,
            "min_width": null,
            "border": null,
            "align_items": null,
            "bottom": null,
            "_model_module": "@jupyter-widgets/base",
            "top": null,
            "grid_column": null,
            "overflow_y": null,
            "overflow_x": null,
            "grid_auto_flow": null,
            "grid_area": null,
            "grid_template_columns": null,
            "flex": null,
            "_model_name": "LayoutModel",
            "justify_items": null,
            "grid_row": null,
            "max_height": null,
            "align_content": null,
            "visibility": null,
            "align_self": null,
            "height": null,
            "min_height": null,
            "padding": null,
            "grid_auto_rows": null,
            "grid_gap": null,
            "max_width": null,
            "order": null,
            "_view_module_version": "1.2.0",
            "grid_template_areas": null,
            "object_position": null,
            "object_fit": null,
            "grid_auto_columns": null,
            "margin": null,
            "display": null,
            "left": null
          }
        },
        "4316fb4eec584dc2948b7b12c1b894fb": {
          "model_module": "@jupyter-widgets/controls",
          "model_name": "HBoxModel",
          "model_module_version": "1.5.0",
          "state": {
            "_view_name": "HBoxView",
            "_dom_classes": [],
            "_model_name": "HBoxModel",
            "_view_module": "@jupyter-widgets/controls",
            "_model_module_version": "1.5.0",
            "_view_count": null,
            "_view_module_version": "1.5.0",
            "box_style": "",
            "layout": "IPY_MODEL_991d37302fab43a39785f2a50ad66c5b",
            "_model_module": "@jupyter-widgets/controls",
            "children": [
              "IPY_MODEL_9d740584441b44a88257328c96d6066f",
              "IPY_MODEL_3819faaf6a02429a9809e9016b59ce2a",
              "IPY_MODEL_61eeb47b94364451bbfeacf6fe471a7e"
            ]
          }
        },
        "991d37302fab43a39785f2a50ad66c5b": {
          "model_module": "@jupyter-widgets/base",
          "model_name": "LayoutModel",
          "model_module_version": "1.2.0",
          "state": {
            "_view_name": "LayoutView",
            "grid_template_rows": null,
            "right": null,
            "justify_content": null,
            "_view_module": "@jupyter-widgets/base",
            "overflow": null,
            "_model_module_version": "1.2.0",
            "_view_count": null,
            "flex_flow": null,
            "width": null,
            "min_width": null,
            "border": null,
            "align_items": null,
            "bottom": null,
            "_model_module": "@jupyter-widgets/base",
            "top": null,
            "grid_column": null,
            "overflow_y": null,
            "overflow_x": null,
            "grid_auto_flow": null,
            "grid_area": null,
            "grid_template_columns": null,
            "flex": null,
            "_model_name": "LayoutModel",
            "justify_items": null,
            "grid_row": null,
            "max_height": null,
            "align_content": null,
            "visibility": null,
            "align_self": null,
            "height": null,
            "min_height": null,
            "padding": null,
            "grid_auto_rows": null,
            "grid_gap": null,
            "max_width": null,
            "order": null,
            "_view_module_version": "1.2.0",
            "grid_template_areas": null,
            "object_position": null,
            "object_fit": null,
            "grid_auto_columns": null,
            "margin": null,
            "display": null,
            "left": null
          }
        },
        "9d740584441b44a88257328c96d6066f": {
          "model_module": "@jupyter-widgets/controls",
          "model_name": "HTMLModel",
          "model_module_version": "1.5.0",
          "state": {
            "_view_name": "HTMLView",
            "style": "IPY_MODEL_25a9d2857fd848bca78f837c74c40fff",
            "_dom_classes": [],
            "description": "",
            "_model_name": "HTMLModel",
            "placeholder": "​",
            "_view_module": "@jupyter-widgets/controls",
            "_model_module_version": "1.5.0",
            "value": "100%",
            "_view_count": null,
            "_view_module_version": "1.5.0",
            "description_tooltip": null,
            "_model_module": "@jupyter-widgets/controls",
            "layout": "IPY_MODEL_30ea15c77ad44d0fb7495a6db14beaa5"
          }
        },
        "3819faaf6a02429a9809e9016b59ce2a": {
          "model_module": "@jupyter-widgets/controls",
          "model_name": "FloatProgressModel",
          "model_module_version": "1.5.0",
          "state": {
            "_view_name": "ProgressView",
            "style": "IPY_MODEL_421bffdf989341adac1968ab9aae654b",
            "_dom_classes": [],
            "description": "",
            "_model_name": "FloatProgressModel",
            "bar_style": "success",
            "max": 22500,
            "_view_module": "@jupyter-widgets/controls",
            "_model_module_version": "1.5.0",
            "value": 22500,
            "_view_count": null,
            "_view_module_version": "1.5.0",
            "orientation": "horizontal",
            "min": 0,
            "description_tooltip": null,
            "_model_module": "@jupyter-widgets/controls",
            "layout": "IPY_MODEL_f81fc43d47fa459781bbacd517a1e2f1"
          }
        },
        "61eeb47b94364451bbfeacf6fe471a7e": {
          "model_module": "@jupyter-widgets/controls",
          "model_name": "HTMLModel",
          "model_module_version": "1.5.0",
          "state": {
            "_view_name": "HTMLView",
            "style": "IPY_MODEL_eca6a990fb66422898c5da57026fb064",
            "_dom_classes": [],
            "description": "",
            "_model_name": "HTMLModel",
            "placeholder": "​",
            "_view_module": "@jupyter-widgets/controls",
            "_model_module_version": "1.5.0",
            "value": " 22500/22500 [00:00&lt;00:00, 64906.36it/s]",
            "_view_count": null,
            "_view_module_version": "1.5.0",
            "description_tooltip": null,
            "_model_module": "@jupyter-widgets/controls",
            "layout": "IPY_MODEL_3ac77d2921a44eb1b9ff24f4f6250238"
          }
        },
        "25a9d2857fd848bca78f837c74c40fff": {
          "model_module": "@jupyter-widgets/controls",
          "model_name": "DescriptionStyleModel",
          "model_module_version": "1.5.0",
          "state": {
            "_view_name": "StyleView",
            "_model_name": "DescriptionStyleModel",
            "description_width": "",
            "_view_module": "@jupyter-widgets/base",
            "_model_module_version": "1.5.0",
            "_view_count": null,
            "_view_module_version": "1.2.0",
            "_model_module": "@jupyter-widgets/controls"
          }
        },
        "30ea15c77ad44d0fb7495a6db14beaa5": {
          "model_module": "@jupyter-widgets/base",
          "model_name": "LayoutModel",
          "model_module_version": "1.2.0",
          "state": {
            "_view_name": "LayoutView",
            "grid_template_rows": null,
            "right": null,
            "justify_content": null,
            "_view_module": "@jupyter-widgets/base",
            "overflow": null,
            "_model_module_version": "1.2.0",
            "_view_count": null,
            "flex_flow": null,
            "width": null,
            "min_width": null,
            "border": null,
            "align_items": null,
            "bottom": null,
            "_model_module": "@jupyter-widgets/base",
            "top": null,
            "grid_column": null,
            "overflow_y": null,
            "overflow_x": null,
            "grid_auto_flow": null,
            "grid_area": null,
            "grid_template_columns": null,
            "flex": null,
            "_model_name": "LayoutModel",
            "justify_items": null,
            "grid_row": null,
            "max_height": null,
            "align_content": null,
            "visibility": null,
            "align_self": null,
            "height": null,
            "min_height": null,
            "padding": null,
            "grid_auto_rows": null,
            "grid_gap": null,
            "max_width": null,
            "order": null,
            "_view_module_version": "1.2.0",
            "grid_template_areas": null,
            "object_position": null,
            "object_fit": null,
            "grid_auto_columns": null,
            "margin": null,
            "display": null,
            "left": null
          }
        },
        "421bffdf989341adac1968ab9aae654b": {
          "model_module": "@jupyter-widgets/controls",
          "model_name": "ProgressStyleModel",
          "model_module_version": "1.5.0",
          "state": {
            "_view_name": "StyleView",
            "_model_name": "ProgressStyleModel",
            "description_width": "",
            "_view_module": "@jupyter-widgets/base",
            "_model_module_version": "1.5.0",
            "_view_count": null,
            "_view_module_version": "1.2.0",
            "bar_color": null,
            "_model_module": "@jupyter-widgets/controls"
          }
        },
        "f81fc43d47fa459781bbacd517a1e2f1": {
          "model_module": "@jupyter-widgets/base",
          "model_name": "LayoutModel",
          "model_module_version": "1.2.0",
          "state": {
            "_view_name": "LayoutView",
            "grid_template_rows": null,
            "right": null,
            "justify_content": null,
            "_view_module": "@jupyter-widgets/base",
            "overflow": null,
            "_model_module_version": "1.2.0",
            "_view_count": null,
            "flex_flow": null,
            "width": null,
            "min_width": null,
            "border": null,
            "align_items": null,
            "bottom": null,
            "_model_module": "@jupyter-widgets/base",
            "top": null,
            "grid_column": null,
            "overflow_y": null,
            "overflow_x": null,
            "grid_auto_flow": null,
            "grid_area": null,
            "grid_template_columns": null,
            "flex": null,
            "_model_name": "LayoutModel",
            "justify_items": null,
            "grid_row": null,
            "max_height": null,
            "align_content": null,
            "visibility": null,
            "align_self": null,
            "height": null,
            "min_height": null,
            "padding": null,
            "grid_auto_rows": null,
            "grid_gap": null,
            "max_width": null,
            "order": null,
            "_view_module_version": "1.2.0",
            "grid_template_areas": null,
            "object_position": null,
            "object_fit": null,
            "grid_auto_columns": null,
            "margin": null,
            "display": null,
            "left": null
          }
        },
        "eca6a990fb66422898c5da57026fb064": {
          "model_module": "@jupyter-widgets/controls",
          "model_name": "DescriptionStyleModel",
          "model_module_version": "1.5.0",
          "state": {
            "_view_name": "StyleView",
            "_model_name": "DescriptionStyleModel",
            "description_width": "",
            "_view_module": "@jupyter-widgets/base",
            "_model_module_version": "1.5.0",
            "_view_count": null,
            "_view_module_version": "1.2.0",
            "_model_module": "@jupyter-widgets/controls"
          }
        },
        "3ac77d2921a44eb1b9ff24f4f6250238": {
          "model_module": "@jupyter-widgets/base",
          "model_name": "LayoutModel",
          "model_module_version": "1.2.0",
          "state": {
            "_view_name": "LayoutView",
            "grid_template_rows": null,
            "right": null,
            "justify_content": null,
            "_view_module": "@jupyter-widgets/base",
            "overflow": null,
            "_model_module_version": "1.2.0",
            "_view_count": null,
            "flex_flow": null,
            "width": null,
            "min_width": null,
            "border": null,
            "align_items": null,
            "bottom": null,
            "_model_module": "@jupyter-widgets/base",
            "top": null,
            "grid_column": null,
            "overflow_y": null,
            "overflow_x": null,
            "grid_auto_flow": null,
            "grid_area": null,
            "grid_template_columns": null,
            "flex": null,
            "_model_name": "LayoutModel",
            "justify_items": null,
            "grid_row": null,
            "max_height": null,
            "align_content": null,
            "visibility": null,
            "align_self": null,
            "height": null,
            "min_height": null,
            "padding": null,
            "grid_auto_rows": null,
            "grid_gap": null,
            "max_width": null,
            "order": null,
            "_view_module_version": "1.2.0",
            "grid_template_areas": null,
            "object_position": null,
            "object_fit": null,
            "grid_auto_columns": null,
            "margin": null,
            "display": null,
            "left": null
          }
        }
      }
    }
  },
  "cells": [
    {
      "cell_type": "code",
      "metadata": {
        "colab": {
          "base_uri": "https://localhost:8080/"
        },
        "id": "TiH2vmxgCR-7",
        "outputId": "f47ca8a3-3980-4d0a-abdc-cacefad916f0"
      },
      "source": [
        "from google.colab import drive\n",
        "drive.mount('/content/drive')"
      ],
      "execution_count": 136,
      "outputs": [
        {
          "output_type": "stream",
          "name": "stdout",
          "text": [
            "Mounted at /content/drive\n"
          ]
        }
      ]
    },
    {
      "cell_type": "code",
      "metadata": {
        "id": "v3ziH2lPCcMn"
      },
      "source": [
        "!sudo unzip \"/content/drive/MyDrive/vos/train.zip\" -d \"/content/vos\""
      ],
      "execution_count": null,
      "outputs": []
    },
    {
      "cell_type": "markdown",
      "metadata": {
        "id": "qdrDnvznfcxP"
      },
      "source": [
        "## Visualize Utils"
      ]
    },
    {
      "cell_type": "code",
      "metadata": {
        "id": "9eorEvi5ZJk7"
      },
      "source": [
        "import cv2\n",
        "import matplotlib.pyplot as plt\n",
        "from PIL import Image\n",
        "\n",
        "def visualize(image_path, anchor_boxes):\n",
        "\n",
        "  image = Image.open(image_path)\n",
        "  image = image.resize((800, 800))\n",
        "\n",
        "  image = np.array(image)\n",
        "  \n",
        "  for i_box, box in enumerate(anchor_boxes):\n",
        "    \n",
        "    start_point = (int(box[0]), int(box[1]))\n",
        "    end_point = (int(box[2]), int(box[3]))\n",
        "    \n",
        "    cv2.rectangle(image, start_point, end_point, (255, 0, 0), 2)\n",
        "    plt.imshow(image)"
      ],
      "execution_count": 70,
      "outputs": []
    },
    {
      "cell_type": "code",
      "metadata": {
        "id": "MVIIIRdHZ5mn"
      },
      "source": [
        "## UNIT TEST\n",
        "# visualize(\"/content/0_15_hazy.png\", anchor_boxes[20000:20100])"
      ],
      "execution_count": 2,
      "outputs": []
    },
    {
      "cell_type": "code",
      "metadata": {
        "id": "NKN8RGo3JO_M"
      },
      "source": [
        "def visualize_a_box(image_path, box):\n",
        "  visualize(image_path, [box])"
      ],
      "execution_count": 3,
      "outputs": []
    },
    {
      "cell_type": "markdown",
      "metadata": {
        "id": "SBigJLTRfZGa"
      },
      "source": [
        "## Generate Anchor Boxes"
      ]
    },
    {
      "cell_type": "code",
      "metadata": {
        "id": "ZuEx7jXOxo6h"
      },
      "source": [
        "import numpy as np"
      ],
      "execution_count": 28,
      "outputs": []
    },
    {
      "cell_type": "code",
      "metadata": {
        "id": "uDshGdCQTg9w"
      },
      "source": [
        "def gen_anchor_box_for_single_feature_map(center_X, center_Y, scales, ratios):\n",
        "  \n",
        "  # Anchor Boxes are generated in the format (x1, y1, x2, y2)\n",
        "  \n",
        "  k = 0\n",
        "  boxes = np.zeros((len(scales) * len(ratios), 4))\n",
        "\n",
        "  for ratio in ratios:\n",
        "    \n",
        "    for scale in scales:\n",
        "\n",
        "      W = scale * subsample * ratio\n",
        "      H = scale * subsample\n",
        "\n",
        "      x_left_top = center_X - (1/2) * W\n",
        "      y_left_top = center_Y - (1/2) * H\n",
        "\n",
        "      x_right_bottom = center_X + (1/2) * W\n",
        "      y_right_bottom = center_Y + (1/2) * H \n",
        "\n",
        "      boxes[k, 0] = x_left_top\n",
        "      boxes[k, 1] = y_left_top\n",
        "      boxes[k, 2] = x_right_bottom\n",
        "      boxes[k, 3] = y_right_bottom\n",
        "\n",
        "      k += 1\n",
        "\n",
        "  return boxes\n"
      ],
      "execution_count": 29,
      "outputs": []
    },
    {
      "cell_type": "code",
      "metadata": {
        "id": "M6Zo-FEJYZK7"
      },
      "source": [
        "## UNIT TEST\n",
        "# gen_anchor_box_for_single_feature_map(400, 400, [8, 16, 32], [0.5, 1, 2]) # output has to be in shape of (3 * 3, 4)"
      ],
      "execution_count": 30,
      "outputs": []
    },
    {
      "cell_type": "code",
      "metadata": {
        "id": "lVYG4qOdKEnu"
      },
      "source": [
        "subsample = 16\n",
        "scales = [8, 16, 32]\n",
        "ratios = [0.5, 1, 2]"
      ],
      "execution_count": 31,
      "outputs": []
    },
    {
      "cell_type": "code",
      "metadata": {
        "id": "abpYUVzNOORt"
      },
      "source": [
        "def generate_all_anchor_boxes():\n",
        "  \n",
        "  anchor_boxes = np.zeros((50, 50, len(scales) * len(ratios), 4)) \n",
        "  \n",
        "  # center_X, center_Y\n",
        "  for i, center_X in enumerate(np.arange(8, 16 * (50), 16 )):\n",
        "    for j, center_Y in enumerate(np.arange(8, 16 * (50), 16)):\n",
        "      anchor_boxes[i, j] = gen_anchor_box_for_single_feature_map(center_X, center_Y, scales, ratios)\n",
        "\n",
        "  return anchor_boxes.reshape(-1, 4)"
      ],
      "execution_count": 32,
      "outputs": []
    },
    {
      "cell_type": "code",
      "metadata": {
        "id": "gIuv7CV5XoPR"
      },
      "source": [
        "#anchor_boxes = generate_all_anchor_boxes()\n",
        "#anchor_boxes.shape"
      ],
      "execution_count": 33,
      "outputs": []
    },
    {
      "cell_type": "markdown",
      "metadata": {
        "id": "UhJD-BM2pir5"
      },
      "source": [
        "### Valid anchors"
      ]
    },
    {
      "cell_type": "code",
      "metadata": {
        "colab": {
          "base_uri": "https://localhost:8080/"
        },
        "id": "15QMn6JkpmdL",
        "outputId": "ed08b1ed-728d-45c3-c982-ce00e59bd549"
      },
      "source": [
        "# x1 and x2 have to in range (0, 800), same applies to y1, y2\n",
        "inside_anchors_index = (anchor_boxes[:, 0] >= 0) & (anchor_boxes[:, 2] < 800) &\\\n",
        "(anchor_boxes[:, 1] >= 0) & (anchor_boxes[:, 3] < 800)"
      ],
      "execution_count": null,
      "outputs": [
        {
          "output_type": "execute_result",
          "data": {
            "text/plain": [
              "9256"
            ]
          },
          "metadata": {},
          "execution_count": 20
        }
      ]
    },
    {
      "cell_type": "code",
      "metadata": {
        "colab": {
          "base_uri": "https://localhost:8080/"
        },
        "id": "XEqS-hlwq4mG",
        "outputId": "04ae3bcf-2645-4130-88f6-29e579bdf406"
      },
      "source": [
        "valid_anchor_boxes = anchor_boxes[inside_anchors_index]"
      ],
      "execution_count": null,
      "outputs": [
        {
          "output_type": "execute_result",
          "data": {
            "text/plain": [
              "(9256, 4)"
            ]
          },
          "metadata": {},
          "execution_count": 21
        }
      ]
    },
    {
      "cell_type": "code",
      "metadata": {
        "id": "VQzQKynOqh-N"
      },
      "source": [
        "# UNIT TEST\n",
        "# the exact number depends on the scales and ratios you used\n",
        "(inside_anchors_index == True).sum() > 0"
      ],
      "execution_count": null,
      "outputs": []
    },
    {
      "cell_type": "markdown",
      "metadata": {
        "id": "ge4ZFmb0OGxP"
      },
      "source": [
        "## Compute IoU"
      ]
    },
    {
      "cell_type": "code",
      "metadata": {
        "id": "a8zITOdTaA2g"
      },
      "source": [
        "def compute_iou(box1, box2):\n",
        "  # assumeing boxes are in format (x1, y1, x2, y2)\n",
        "  inter = {}\n",
        "  inter[\"x_left_top\"] = max(box1[0], box2[0])\n",
        "  inter[\"y_left_top\"] = max(box1[1], box2[1])\n",
        "\n",
        "  inter[\"x_right_bottom\"] = min(box1[2], box2[2])\n",
        "  inter[\"y_right_bottom\"] = min(box1[3], box2[3])\n",
        "\n",
        "  if inter[\"x_left_top\"] < inter[\"x_right_bottom\"] and inter[\"y_left_top\"] < inter[\"y_right_bottom\"]: # there is a non-zero intersection  \n",
        "    iou_area = (inter[\"x_right_bottom\"] - inter[\"x_left_top\"]) * (inter[\"y_right_bottom\"] - inter[\"y_left_top\"])\n",
        "  else:\n",
        "    iou_area = 0\n",
        "\n",
        "  box1_area = (box1[2] - box1[0]) * (box1[3] - box1[1])\n",
        "  box2_area = (box2[2] - box2[0]) * (box2[3] - box2[1])\n",
        "\n",
        "  iou = iou_area / (box1_area + box2_area - iou_area)\n",
        "\n",
        "  return iou"
      ],
      "execution_count": 42,
      "outputs": []
    },
    {
      "cell_type": "code",
      "metadata": {
        "id": "KTbbGaX6vNpq"
      },
      "source": [
        "## UNIT TEST\n",
        "# box1 = [0, 0, 5, 5]\n",
        "# box2 = [5, 5, 10, 10]\n",
        "# box3 = [2.5, 2.5, 7.5, 7.5]\n",
        "\n",
        "# compute_iou(box1, box2) # it has to be zero\n",
        "# compute_iou(box1, box3) # ~ 0.14\n",
        "# compute_iou(box3, box1) # it's a symetric function so same 0.14"
      ],
      "execution_count": 43,
      "outputs": []
    },
    {
      "cell_type": "markdown",
      "metadata": {
        "id": "HBWpd4HIN0WD"
      },
      "source": [
        "## Get Bouning Box from Mask"
      ]
    },
    {
      "cell_type": "code",
      "metadata": {
        "id": "_gvTsO2TG1V8"
      },
      "source": [
        "from PIL import Image\n",
        "\n",
        "def get_bounding_box(image_path, mask_path):\n",
        "\n",
        "  image = Image.open(image_path)\n",
        "  mask = Image.open(mask_path)\n",
        "  \n",
        "  image = image.resize((800, 800)) # otherwise boxes don't place at right locations \n",
        "  mask = mask.resize((800, 800))\n",
        "\n",
        "  mask = np.array(mask)\n",
        "\n",
        "  # mask is in shape of [H, W] where each pixel has a value of 0, 1, 2, 3, 4\n",
        "  # we don't care about different categories, we care just about being an object\n",
        "\n",
        "  boxes = []\n",
        "  \n",
        "  for instance_number in range(1, np.max(mask) + 1):\n",
        "    Y, X = np.where(mask == instance_number)\n",
        "    box = [X.min(), Y.min(), X.max(), Y.max()]\n",
        "    boxes.append(box)\n",
        "  \n",
        "  return boxes"
      ],
      "execution_count": 40,
      "outputs": []
    },
    {
      "cell_type": "code",
      "metadata": {
        "id": "VlqnhKBaMsl6",
        "colab": {
          "base_uri": "https://localhost:8080/",
          "height": 197
        },
        "outputId": "4f783c10-6e7b-474d-de66-ca4962d13c15"
      },
      "source": [
        "# UNIT TEST\n",
        "boxes = get_bounding_box(\"/content/image.jpg\", \"/content/label.png\")\n",
        "visualize(\"/content/image.jpg\", boxes)"
      ],
      "execution_count": 41,
      "outputs": [
        {
          "output_type": "error",
          "ename": "NameError",
          "evalue": "ignored",
          "traceback": [
            "\u001b[0;31m---------------------------------------------------------------------------\u001b[0m",
            "\u001b[0;31mNameError\u001b[0m                                 Traceback (most recent call last)",
            "\u001b[0;32m<ipython-input-41-c8fd365729d9>\u001b[0m in \u001b[0;36m<module>\u001b[0;34m()\u001b[0m\n\u001b[1;32m      1\u001b[0m \u001b[0;31m# UNIT TEST\u001b[0m\u001b[0;34m\u001b[0m\u001b[0;34m\u001b[0m\u001b[0;34m\u001b[0m\u001b[0m\n\u001b[1;32m      2\u001b[0m \u001b[0mboxes\u001b[0m \u001b[0;34m=\u001b[0m \u001b[0mget_bounding_box\u001b[0m\u001b[0;34m(\u001b[0m\u001b[0;34m\"/content/image.jpg\"\u001b[0m\u001b[0;34m,\u001b[0m \u001b[0;34m\"/content/label.png\"\u001b[0m\u001b[0;34m)\u001b[0m\u001b[0;34m\u001b[0m\u001b[0;34m\u001b[0m\u001b[0m\n\u001b[0;32m----> 3\u001b[0;31m \u001b[0mvisualize\u001b[0m\u001b[0;34m(\u001b[0m\u001b[0;34m\"/content/image.jpg\"\u001b[0m\u001b[0;34m,\u001b[0m \u001b[0mboxes\u001b[0m\u001b[0;34m)\u001b[0m\u001b[0;34m\u001b[0m\u001b[0;34m\u001b[0m\u001b[0m\n\u001b[0m",
            "\u001b[0;31mNameError\u001b[0m: name 'visualize' is not defined"
          ]
        }
      ]
    },
    {
      "cell_type": "markdown",
      "metadata": {
        "id": "7om054x-N3xf"
      },
      "source": [
        "## Compute (50 * 50 * 9, 2)"
      ]
    },
    {
      "cell_type": "code",
      "metadata": {
        "id": "yf4SGKpQc_-J"
      },
      "source": [
        "def get_anchors_iou(image_path, label_path, anchors):\n",
        "  \n",
        "  gt_boxes = get_bounding_box(image_path, label_path)\n",
        "\n",
        "  anchors_iou = np.zeros((len(anchors), len(gt_boxes)))\n",
        "\n",
        "  for anchor_ind, anchor_box in enumerate(anchors):\n",
        "    for gt_idx, gt_box in enumerate(gt_boxes):\n",
        "      anchors_iou[anchor_ind, gt_idx] = compute_iou(anchor_box, gt_box)\n",
        "  \n",
        "  return anchors_iou    "
      ],
      "execution_count": 44,
      "outputs": []
    },
    {
      "cell_type": "code",
      "metadata": {
        "id": "LmxMGEqhPU9k"
      },
      "source": [
        "def iou_to_label(anchors_iou):\n",
        "\n",
        "  # anchors_iou is the mutual iou of every anchor box and ground-truth box\n",
        "  # is in shape of (50 * 50 * 9, 5)\n",
        "\n",
        "  # output is in shape of (50 * 50 * 9, 1)\n",
        "\n",
        "  \"\"\"\n",
        "  a) if iou of anchor box and ground-truth box is greater than 0.7 label one is assigned\n",
        "  b) anchor box with highest iou with a specific ground-truth box is also labeled as one\n",
        "  c) iou less than 0.3 is labeled as -1\n",
        "  \"\"\"\n",
        "\n",
        "\n",
        "  anchor_label = np.full((anchors_iou.shape[0], 1), fill_value=-1)\n",
        "\n",
        "  # higher_iou_idx, higher_gt_idx = np.where(anchors_iou > 0.7) # a rule\n",
        "  # lower_iou_idx, lower_gt_idx = np.where(anchors_iou < 0.3) # b rule\n",
        "\n",
        "  negative_a_idx = np.where(np.max(anchors_iou, axis=-1) < 0.3) # a rule\n",
        "  \n",
        "  positive_b_idx = np.where(np.max(anchors_iou, axis=-1) > 0.7) # b rule\n",
        "  postive_c_idx =  np.argmax(anchors_iou, axis=0) # c rule\n",
        "  \n",
        "  anchor_label[positive_b_idx, :] = 1\n",
        "  anchor_label[postive_c_idx, :] = 1\n",
        "  \n",
        "  anchor_label[negative_a_idx, :] = 0\n",
        "  \n",
        "  return anchor_label"
      ],
      "execution_count": 45,
      "outputs": []
    },
    {
      "cell_type": "code",
      "metadata": {
        "colab": {
          "base_uri": "https://localhost:8080/",
          "height": 231
        },
        "id": "5GNXRcjYXKgR",
        "outputId": "f9399955-b4b1-4231-cb4a-779f8defabac"
      },
      "source": [
        "# UNIT TEST\n",
        "anchors_iou = get_anchors_iou(\"/content/image.jpg\", \"/content/label.png\", anchor_boxes)\n",
        "anchor_label = iou_to_label(anchors_iou)\n",
        "X1, _ = np.where(anchor_label == 1)\n",
        "visualize(\"/content/image.jpg\", anchor_boxes[X1])"
      ],
      "execution_count": 46,
      "outputs": [
        {
          "output_type": "error",
          "ename": "NameError",
          "evalue": "ignored",
          "traceback": [
            "\u001b[0;31m---------------------------------------------------------------------------\u001b[0m",
            "\u001b[0;31mNameError\u001b[0m                                 Traceback (most recent call last)",
            "\u001b[0;32m<ipython-input-46-ff02309599cb>\u001b[0m in \u001b[0;36m<module>\u001b[0;34m()\u001b[0m\n\u001b[1;32m      1\u001b[0m \u001b[0;31m# UNIT TEST\u001b[0m\u001b[0;34m\u001b[0m\u001b[0;34m\u001b[0m\u001b[0;34m\u001b[0m\u001b[0m\n\u001b[0;32m----> 2\u001b[0;31m \u001b[0manchors_iou\u001b[0m \u001b[0;34m=\u001b[0m \u001b[0mget_anchors_iou\u001b[0m\u001b[0;34m(\u001b[0m\u001b[0;34m\"/content/image.jpg\"\u001b[0m\u001b[0;34m,\u001b[0m \u001b[0;34m\"/content/label.png\"\u001b[0m\u001b[0;34m,\u001b[0m \u001b[0manchor_boxes\u001b[0m\u001b[0;34m)\u001b[0m\u001b[0;34m\u001b[0m\u001b[0;34m\u001b[0m\u001b[0m\n\u001b[0m\u001b[1;32m      3\u001b[0m \u001b[0manchor_label\u001b[0m \u001b[0;34m=\u001b[0m \u001b[0miou_to_label\u001b[0m\u001b[0;34m(\u001b[0m\u001b[0manchors_iou\u001b[0m\u001b[0;34m)\u001b[0m\u001b[0;34m\u001b[0m\u001b[0;34m\u001b[0m\u001b[0m\n\u001b[1;32m      4\u001b[0m \u001b[0mX1\u001b[0m\u001b[0;34m,\u001b[0m \u001b[0m_\u001b[0m \u001b[0;34m=\u001b[0m \u001b[0mnp\u001b[0m\u001b[0;34m.\u001b[0m\u001b[0mwhere\u001b[0m\u001b[0;34m(\u001b[0m\u001b[0manchor_label\u001b[0m \u001b[0;34m==\u001b[0m \u001b[0;36m1\u001b[0m\u001b[0;34m)\u001b[0m\u001b[0;34m\u001b[0m\u001b[0;34m\u001b[0m\u001b[0m\n\u001b[1;32m      5\u001b[0m \u001b[0mvisualize\u001b[0m\u001b[0;34m(\u001b[0m\u001b[0;34m\"/content/image.jpg\"\u001b[0m\u001b[0;34m,\u001b[0m \u001b[0manchor_boxes\u001b[0m\u001b[0;34m[\u001b[0m\u001b[0mX1\u001b[0m\u001b[0;34m]\u001b[0m\u001b[0;34m)\u001b[0m\u001b[0;34m\u001b[0m\u001b[0;34m\u001b[0m\u001b[0m\n",
            "\u001b[0;31mNameError\u001b[0m: name 'anchor_boxes' is not defined"
          ]
        }
      ]
    },
    {
      "cell_type": "code",
      "metadata": {
        "colab": {
          "base_uri": "https://localhost:8080/"
        },
        "id": "S7jsq8Oz1QNn",
        "outputId": "8082337c-b68b-49ad-dce1-0f307c26274f"
      },
      "source": [
        "# SANITY CHECK\n",
        "# anchors with label zero should be much higher in number than label 1 and -1\n",
        "# label 1 reasonable range is (grouth_truth, 3 * grouth_truth)\n",
        "\n",
        "(anchor_label == -1).sum(), (anchor_label == 0).sum(), (anchor_label == 1).sum() "
      ],
      "execution_count": 16,
      "outputs": [
        {
          "output_type": "execute_result",
          "data": {
            "text/plain": [
              "(1090, 21405, 5)"
            ]
          },
          "metadata": {},
          "execution_count": 16
        }
      ]
    },
    {
      "cell_type": "markdown",
      "metadata": {
        "id": "1AQQn2bUagSy"
      },
      "source": [
        "## Utilities"
      ]
    },
    {
      "cell_type": "code",
      "metadata": {
        "id": "9aqK047McpeZ"
      },
      "source": [
        "def corner2center(box):\n",
        "\n",
        "  x1 = box[0]\n",
        "  x2 = box[2]\n",
        "\n",
        "  y1 =  box[1]\n",
        "  y2 = box[3]\n",
        "\n",
        "  center_x, center_y = (x1 + x2) / 2, (y1 + y2) / 2\n",
        "  width, height = (x2 - x1), (y2 - y1)\n",
        "\n",
        "  return [center_x, center_y, width, height]"
      ],
      "execution_count": 35,
      "outputs": []
    },
    {
      "cell_type": "code",
      "metadata": {
        "id": "aIKf8_wSHdxB"
      },
      "source": [
        "def center2corner(box):\n",
        "  x, y, w, h = box\n",
        "  x1 = x - (1/2) * w\n",
        "  y1 = y - (1/2) * h\n",
        "  x2 = x + (1/2) * w\n",
        "  y2 = y + (1/2) * h\n",
        "\n",
        "  return [x1, y1, x2, y2]"
      ],
      "execution_count": 36,
      "outputs": []
    },
    {
      "cell_type": "code",
      "metadata": {
        "id": "UfhaTwsIfG1X"
      },
      "source": [
        "# UNIT TEST\n",
        "# box1 = corner2center([0, 0, 5, 5]) \n",
        "# assert box1 == [2.5, 2.5, 5, 5]\n",
        "# print(\"pass!\")"
      ],
      "execution_count": 37,
      "outputs": []
    },
    {
      "cell_type": "code",
      "metadata": {
        "id": "-8ONJ1wPdG_l"
      },
      "source": [
        "from math import log\n",
        "\n",
        "def get_parameterized_target(anchor_box, gt_box):\n",
        "  \n",
        "  # input is anchor_box, gt_box in center format\n",
        "  # output is t_X, t_y, t_h, t_w\n",
        "\n",
        "  t_x = (anchor_box[0] - gt_box[0]) / anchor_box[2]\n",
        "  t_y = (anchor_box[1] - gt_box[1]) / anchor_box[3]\n",
        "  t_w = log(gt_box[2] / anchor_box[2])\n",
        "  t_h = log(gt_box[3] / anchor_box[3])\n",
        "\n",
        "  return [t_x, t_y, t_w, t_h] \n"
      ],
      "execution_count": 38,
      "outputs": []
    },
    {
      "cell_type": "code",
      "metadata": {
        "id": "0LabosgWeCJ9"
      },
      "source": [
        "# UNIT TEST\n",
        "# box1 = corner2center([0., 0., 5., 5.])\n",
        "# box2 = corner2center([2.5, 2.5, 7.5, 7.5])\n",
        "\n",
        "# assert (get_parameterized_target(box1, box2) == [-1/2, -1/2, 0, 0]) # expected output [-1/2, -1/2, 0, 0]\n",
        "# print(\"pass!\")"
      ],
      "execution_count": 39,
      "outputs": []
    },
    {
      "cell_type": "markdown",
      "metadata": {
        "id": "FyPeSVoGr9RQ"
      },
      "source": [
        "## Make RPN Targets"
      ]
    },
    {
      "cell_type": "code",
      "metadata": {
        "id": "RoJrEJCPtnhw"
      },
      "source": [
        "anchors_iou = get_anchors_iou(\"/content/image.jpg\", \"/content/label.png\", anchor_boxes) # (number of anchors, number of gt_boxes)\n",
        "highest_iou = np.argmax(anchors_iou, axis=-1) # only GT-box with highest IoU is considered\n",
        "gt_boxes = get_bounding_box(\"/content/image.jpg\", \"/content/label.png\")"
      ],
      "execution_count": 25,
      "outputs": []
    },
    {
      "cell_type": "code",
      "metadata": {
        "id": "mf09qSqLq81l"
      },
      "source": [
        "# for each anchor box we have (t_x, t_y, t_w, t_h)\n",
        "# ground truth box with highest iou is chosen\n",
        "loc = np.zeros((len(anchor_boxes), 4)) \n",
        "label = iou_to_label(anchors_iou)"
      ],
      "execution_count": 26,
      "outputs": []
    },
    {
      "cell_type": "code",
      "metadata": {
        "colab": {
          "base_uri": "https://localhost:8080/",
          "height": 49,
          "referenced_widgets": [
            "18d1aa59ad4d4bc287ca60c29ad6b125",
            "f553ccee357547fc898b6f6d2b3e91ee",
            "830591e3853c40a682ce85368df072f2",
            "a734028b42dc44e38ecd5ef0ddc3df15",
            "01454cc78cd04f18ad43c427b630c7ed",
            "0e3cb15e046a45a78a313cea2189120d",
            "1f3d15cf1e8d4180b9fc825250a7db05",
            "7d5ddeae229148d185c3ed3c76f0181f",
            "2a58fe90cbb34c728e5cde417e283381",
            "6115e80cfd074ce9964e69835e864688",
            "34f034a1409b45eaabcb63841f9c5a66"
          ]
        },
        "id": "Luw5XD64mdTW",
        "outputId": "74669eaf-624b-450b-f4f3-08f42bb1a4d3"
      },
      "source": [
        "from tqdm.auto import tqdm\n",
        "\n",
        "for anchor_idx in tqdm(range((len(anchor_boxes)))):\n",
        "  \n",
        "  anchor_center = corner2center(anchor_boxes[anchor_idx]) \n",
        "  gt_center = corner2center(gt_boxes[highest_iou[anchor_idx]]) # coordination of nearest GT-box\n",
        "\n",
        "  loc[anchor_idx] = get_parameterized_target(anchor_center, gt_center)"
      ],
      "execution_count": 31,
      "outputs": [
        {
          "output_type": "display_data",
          "data": {
            "application/vnd.jupyter.widget-view+json": {
              "model_id": "18d1aa59ad4d4bc287ca60c29ad6b125",
              "version_minor": 0,
              "version_major": 2
            },
            "text/plain": [
              "  0%|          | 0/22500 [00:00<?, ?it/s]"
            ]
          },
          "metadata": {}
        }
      ]
    },
    {
      "cell_type": "code",
      "metadata": {
        "colab": {
          "base_uri": "https://localhost:8080/"
        },
        "id": "X2BDOVRvrGvi",
        "outputId": "55f0c71b-e384-4d44-c628-791aafa1bae6"
      },
      "source": [
        "print(loc.shape, label.shape)"
      ],
      "execution_count": 32,
      "outputs": [
        {
          "output_type": "stream",
          "name": "stdout",
          "text": [
            "(22500, 4) (22500, 1)\n"
          ]
        }
      ]
    },
    {
      "cell_type": "markdown",
      "metadata": {
        "id": "mLvma6uouSGx"
      },
      "source": [
        "### Sample Positive and Negative Anchors"
      ]
    },
    {
      "cell_type": "code",
      "metadata": {
        "id": "t37zlOHQu0ch"
      },
      "source": [
        "pos_ratio = 0.5\n",
        "n_sample = 256\n",
        "n_pos = pos_ratio * n_sample"
      ],
      "execution_count": 36,
      "outputs": []
    },
    {
      "cell_type": "code",
      "metadata": {
        "id": "YHboHeGYu3TX"
      },
      "source": [
        "pos_index = np.where(label == 1)[0]\n",
        "disable = np.random.choice(pos_index, size=max(0, len(pos_index) - 128), replace=False)\n",
        "label[disable] = -1"
      ],
      "execution_count": 43,
      "outputs": []
    },
    {
      "cell_type": "code",
      "metadata": {
        "id": "v34gLx10woKn"
      },
      "source": [
        "neg_index = np.where(label == 0)[0]\n",
        "pos_count = np.sum(label == 1)\n",
        "disable = np.random.choice(neg_index, size=len(neg_index) - (n_sample - pos_count), replace=False)\n",
        "label[disable] = -1"
      ],
      "execution_count": 44,
      "outputs": []
    },
    {
      "cell_type": "code",
      "metadata": {
        "colab": {
          "base_uri": "https://localhost:8080/"
        },
        "id": "kvEC7csRxVYh",
        "outputId": "0a86b32d-4c0c-45c3-921d-fba4be157ed4"
      },
      "source": [
        "# UNIT TEST\n",
        "(label == 1).sum() + (label == 0).sum() == 256"
      ],
      "execution_count": 46,
      "outputs": [
        {
          "output_type": "execute_result",
          "data": {
            "text/plain": [
              "True"
            ]
          },
          "metadata": {},
          "execution_count": 46
        }
      ]
    },
    {
      "cell_type": "markdown",
      "metadata": {
        "id": "1ThTR51yyqrI"
      },
      "source": [
        "### Filter Valid Anchors"
      ]
    },
    {
      "cell_type": "code",
      "metadata": {
        "id": "ejsBLO0ayvEE"
      },
      "source": [
        "label[~inside_anchors_index] = -1 # ignore anchor not inside\n",
        "loc[~inside_anchors_index, :] = 0"
      ],
      "execution_count": 52,
      "outputs": []
    },
    {
      "cell_type": "code",
      "metadata": {
        "colab": {
          "base_uri": "https://localhost:8080/"
        },
        "id": "_sHnxrprz8_-",
        "outputId": "97d9526a-c2e3-4b3b-b064-a5f3130b4094"
      },
      "source": [
        "label.shape, loc.shape"
      ],
      "execution_count": 53,
      "outputs": [
        {
          "output_type": "execute_result",
          "data": {
            "text/plain": [
              "((22500, 1), (22500, 4))"
            ]
          },
          "metadata": {},
          "execution_count": 53
        }
      ]
    },
    {
      "cell_type": "markdown",
      "metadata": {
        "id": "uUVyPrl7v0YW"
      },
      "source": [
        "## RPN Network"
      ]
    },
    {
      "cell_type": "code",
      "metadata": {
        "id": "RZj9JIaUwb3w"
      },
      "source": [
        "import torch\n",
        "import torch.nn as nn\n",
        "from torchvision.models import vgg16"
      ],
      "execution_count": 11,
      "outputs": []
    },
    {
      "cell_type": "code",
      "metadata": {
        "id": "sRMdlbjaBqxs"
      },
      "source": [
        "feature_extractor = vgg16(pretrained=True).features[:30]"
      ],
      "execution_count": 12,
      "outputs": []
    },
    {
      "cell_type": "code",
      "metadata": {
        "id": "Y6LYekcEwRGU"
      },
      "source": [
        "class RPN(nn.Module):\n",
        "  \n",
        "  def __init__(self, n_anchors):\n",
        "    \n",
        "    super(RPN, self).__init__()\n",
        "    \n",
        "    self.conv1 = nn.Conv2d(512, 512, 3, 1, 1)\n",
        "    self.conv1.weight.data.normal_(0, 0.01)\n",
        "    self.conv1.bias.data.zero_()\n",
        "\n",
        "    self.cls_layer = nn.Conv2d(512, n_anchors * 2, 1, 1, 0)\n",
        "    self.cls_layer.weight.data.normal_(0, 0.01)\n",
        "    self.cls_layer.bias.data.zero_()\n",
        "\n",
        "    self.reg_layer = nn.Conv2d(512, n_anchors * 4, 1, 1, 0)\n",
        "    self.cls_layer.weight.data.normal_(0, 0.01)\n",
        "    self.cls_layer.bias.data.zero_()\n",
        "\n",
        "  def forward(self, x):\n",
        "    \n",
        "    x = self.conv1(x)\n",
        "\n",
        "    pred_cls = self.cls_layer(x)\n",
        "    pred_loc = self.reg_layer(x)\n",
        "\n",
        "    return pred_cls, pred_loc"
      ],
      "execution_count": 13,
      "outputs": []
    },
    {
      "cell_type": "code",
      "metadata": {
        "id": "H18lOMebw5Nw"
      },
      "source": [
        "# n_anchors = len(scales) * len(ratios)\n",
        "n_anchors = 9\n",
        "rpn = RPN(n_anchors)"
      ],
      "execution_count": 14,
      "outputs": []
    },
    {
      "cell_type": "code",
      "metadata": {
        "id": "-Dscff0IzsdN"
      },
      "source": [
        "# UNIT Test\n",
        "# assert (rpn.feature_extractor(torch.randn(4, 3, 800, 800)).shape) == (4, 512, 50, 50), \"something wrong with feature extractor output shape!\""
      ],
      "execution_count": 15,
      "outputs": []
    },
    {
      "cell_type": "code",
      "metadata": {
        "colab": {
          "base_uri": "https://localhost:8080/"
        },
        "id": "hvUlDMc9zJNk",
        "outputId": "4e7e9afe-c1a7-4ed1-8197-3b4a4e062940"
      },
      "source": [
        "# pred_cls, pred_loc = rpn(feature_extractor(torch.randn(1, 3, 800, 800))) # output should be (1, 18, 50 , 50), (50 * 50 * 9 * 4, 4)\n",
        "\n",
        "# pred_loc = pred_loc.contiguous().view(1, -1, 4)\n",
        "# pred_cls = pred_cls.permute(0, 2, 3, 1).contiguous().view(1, 50, 50, 18)\n",
        "# objectness_score = pred_cls.view(50 * 50, 9, 2)[:, :, :, 1].contiguous().view(-1, 1)\n",
        "# pred_cls = pred_cls.view(1, -1, 2)\n",
        "\n",
        "# pred_cls.shape, pred_loc.shape, objectness_score.shape \n",
        "# pred_cls.shape, pred_loc.shape"
      ],
      "execution_count": 16,
      "outputs": [
        {
          "output_type": "stream",
          "name": "stderr",
          "text": [
            "/usr/local/lib/python3.7/dist-packages/torch/nn/functional.py:718: UserWarning: Named tensors and all their associated APIs are an experimental feature and subject to change. Please do not use them for anything important until they are released as stable. (Triggered internally at  /pytorch/c10/core/TensorImpl.h:1156.)\n",
            "  return torch.max_pool2d(input, kernel_size, stride, padding, dilation, ceil_mode)\n"
          ]
        },
        {
          "output_type": "execute_result",
          "data": {
            "text/plain": [
              "(torch.Size([1, 22500, 2]), torch.Size([1, 22500, 4]))"
            ]
          },
          "metadata": {},
          "execution_count": 16
        }
      ]
    },
    {
      "cell_type": "markdown",
      "metadata": {
        "id": "-xqA1t7lDUYV"
      },
      "source": [
        "## RPN Loss"
      ]
    },
    {
      "cell_type": "code",
      "metadata": {
        "id": "lApQYANyIWrw"
      },
      "source": [
        "gt_label = torch.tensor(label)\n",
        "gt_label = gt_label[:, 0]"
      ],
      "execution_count": null,
      "outputs": []
    },
    {
      "cell_type": "code",
      "metadata": {
        "id": "GC4TPojIIvpq"
      },
      "source": [
        "pred_cls = pred_cls[0]"
      ],
      "execution_count": null,
      "outputs": []
    },
    {
      "cell_type": "code",
      "metadata": {
        "id": "tuTMTLifJYNl"
      },
      "source": [
        "loc = torch.tensor(loc)"
      ],
      "execution_count": null,
      "outputs": []
    },
    {
      "cell_type": "code",
      "metadata": {
        "colab": {
          "base_uri": "https://localhost:8080/"
        },
        "id": "gUPzYhI_DXSQ",
        "outputId": "9ff01488-f7d8-4cc6-8865-d7465e37993e"
      },
      "source": [
        "import torch.nn.functional as F\n",
        "classification_loss = F.cross_entropy(pred_cls, gt_label, ignore_index=-1)\n",
        "\n",
        "print(classification_loss.item())\n",
        "\n",
        "pos_index = torch.where(gt_label == 1)\n",
        "x = torch.abs(pred_loc[pos_index] - loc[pos_index])\n",
        "\n",
        "regression_loss = (x < 1).float() * (0.5) * (x**2) + (x > 1) * (x - 0.5)\n",
        "regression_loss = regression_loss.sum()\n",
        "regression_loss = regression_loss / (len(pos_index))\n",
        "\n",
        "print(regression_loss.item())"
      ],
      "execution_count": 118,
      "outputs": [
        {
          "output_type": "stream",
          "name": "stdout",
          "text": [
            "0.6823936700820923\n",
            "0.37745134480418585\n"
          ]
        }
      ]
    },
    {
      "cell_type": "markdown",
      "metadata": {
        "id": "T7haPYHrMmbP"
      },
      "source": [
        "## Training RPN"
      ]
    },
    {
      "cell_type": "code",
      "metadata": {
        "id": "GEdWuzYoNeWh"
      },
      "source": [
        "import torch\n",
        "from torch.utils.data import Dataset\n",
        "from torch.utils.data import DataLoader\n",
        "import torchvision.transforms as transforms\n",
        "from tqdm.auto import tqdm\n",
        "import glob\n",
        "import os"
      ],
      "execution_count": 8,
      "outputs": []
    },
    {
      "cell_type": "code",
      "metadata": {
        "id": "lk7oV7fNNjjO"
      },
      "source": [
        "class VOS(Dataset):\n",
        "\n",
        "  def __init__(self, root):\n",
        "    self.images = glob.glob(os.path.join(root, \"JPEGImages/*/*.jpg\"))\n",
        "    self.root = root\n",
        "\n",
        "  def __len__(self):\n",
        "    return len(self.images)\n",
        "\n",
        "  def __getitem__(self, idx):\n",
        "    \n",
        "    image_path = self.images[idx]\n",
        "    \n",
        "    image_name = image_path.split(\"/\")[-1].split(\".\")[0]\n",
        "    folder_id = image_path.split(\"/\")[-2]\n",
        "    label_path = os.path.join(self.root, \"Annotations\", folder_id, image_name + \".png\")\n",
        "\n",
        "    anchor_boxes = generate_all_anchor_boxes()\n",
        "    iou = get_anchors_iou(image_path, label_path, anchor_boxes)\n",
        "\n",
        "    highest_iou = np.argmax(iou, axis=-1) # only GT-box with highest IoU is considered\n",
        "    gt_boxes = get_bounding_box(image_path, label_path)\n",
        "\n",
        "    # for each anchor box we have (t_x, t_y, t_w, t_h)\n",
        "    # ground truth box with highest iou is chosen\n",
        "    loc = np.zeros((len(anchor_boxes), 4)) \n",
        "    label = iou_to_label(iou)\n",
        "\n",
        "    \n",
        "    for anchor_idx in tqdm(range((len(anchor_boxes)))):\n",
        "      \n",
        "      anchor_center = corner2center(anchor_boxes[anchor_idx]) \n",
        "      gt_center = corner2center(gt_boxes[highest_iou[anchor_idx]]) # coordination of nearest GT-box\n",
        "\n",
        "      loc[anchor_idx] = get_parameterized_target(anchor_center, gt_center)\n",
        "\n",
        "    \n",
        "    image_file = Image.open(image_path)\n",
        "    image_file = image_file.resize((800, 800))\n",
        "    image_tensor = transforms.ToTensor()((np.array(image_file)))\n",
        "\n",
        "    return image_tensor, label, loc"
      ],
      "execution_count": 89,
      "outputs": []
    },
    {
      "cell_type": "code",
      "metadata": {
        "id": "A5XFb6L7Pg00"
      },
      "source": [
        "# vos = VOS(\"/content/vos/train\")\n",
        "# image_file, label, loc = vos[600]\n",
        "# label.shape, loc.shape"
      ],
      "execution_count": 93,
      "outputs": []
    },
    {
      "cell_type": "code",
      "metadata": {
        "id": "Sh5PbOEZQCwu"
      },
      "source": [
        "# a, b, c = next(iter(train_loader))\n",
        "# a.shape, b.shape, c.shape"
      ],
      "execution_count": 91,
      "outputs": []
    },
    {
      "cell_type": "code",
      "metadata": {
        "colab": {
          "base_uri": "https://localhost:8080/"
        },
        "id": "DSGwLpCOWr9F",
        "outputId": "fdb2d2cc-112a-47db-83cb-b1147039d9e2"
      },
      "source": [
        "batch_size = 1\n",
        "vos = VOS(\"/content/vos/train\")\n",
        "train_loader = DataLoader(vos, batch_size=batch_size, shuffle=True)\n",
        "len(train_loader)"
      ],
      "execution_count": 92,
      "outputs": [
        {
          "output_type": "execute_result",
          "data": {
            "text/plain": [
              "94588"
            ]
          },
          "metadata": {},
          "execution_count": 92
        }
      ]
    },
    {
      "cell_type": "code",
      "metadata": {
        "id": "dB2-wQuKXbcD"
      },
      "source": [
        "import torch.nn.functional as F"
      ],
      "execution_count": 74,
      "outputs": []
    },
    {
      "cell_type": "code",
      "metadata": {
        "id": "xosVwz3fXMog"
      },
      "source": [
        "optim = torch.optim.Adam(rpn.parameters(), lr=0.001)"
      ],
      "execution_count": 75,
      "outputs": []
    },
    {
      "cell_type": "code",
      "metadata": {
        "colab": {
          "base_uri": "https://localhost:8080/",
          "height": 692,
          "referenced_widgets": [
            "4316fb4eec584dc2948b7b12c1b894fb",
            "991d37302fab43a39785f2a50ad66c5b",
            "9d740584441b44a88257328c96d6066f",
            "3819faaf6a02429a9809e9016b59ce2a",
            "61eeb47b94364451bbfeacf6fe471a7e",
            "25a9d2857fd848bca78f837c74c40fff",
            "30ea15c77ad44d0fb7495a6db14beaa5",
            "421bffdf989341adac1968ab9aae654b",
            "f81fc43d47fa459781bbacd517a1e2f1",
            "eca6a990fb66422898c5da57026fb064",
            "3ac77d2921a44eb1b9ff24f4f6250238"
          ]
        },
        "id": "IuWQkg4tMoR7",
        "outputId": "e2d5e1e3-a1c7-462c-8ed1-64d7dc5826e6"
      },
      "source": [
        "for image, cls, loc  in train_loader:\n",
        "  # image in shape of (1, 3, 800, 800)\n",
        "  # cls in shape of (1, 22500, 1)\n",
        "  # loc in shape of (1, 22500, 4)\n",
        "\n",
        "  cls = cls[0].reshape(-1)\n",
        "  loc = loc[0]\n",
        "  \n",
        "  optim.zero_grad()\n",
        "\n",
        "  pred_cls, pred_loc = rpn(feature_extractor(image)) # output should be (1, 18, 50 , 50), (50 * 50 * 9 * 4, 4)\n",
        "\n",
        "  pred_loc = pred_loc.contiguous().view(-1, 4)\n",
        "  # pred_cls = pred_cls.permute(0, 2, 3, 1).contiguous().view(1, 50, 50, 18)\n",
        "  # objectness_score = pred_cls.view(50 * 50, 9, 2)[:, :, :, 1].contiguous().view(-1, 1)\n",
        "  pred_cls = pred_cls.view(-1, 2)\n",
        "\n",
        "  # pred_cls.shape, pred_loc.shape, objectness_score.shape \n",
        "  \n",
        "\n",
        "  classification_loss = F.cross_entropy(pred_cls, cls, ignore_index=-1)\n",
        "\n",
        "  print(classification_loss.item())\n",
        "\n",
        "  pos_index = torch.where(cls == 1)\n",
        "  x = torch.abs(pred_loc[pos_index] - loc[pos_index])\n",
        "\n",
        "  regression_loss = (x < 1).float() * (0.5) * (x**2) + (x > 1) * (x - 0.5)\n",
        "  regression_loss = regression_loss.sum()\n",
        "  regression_loss = regression_loss / (len(pos_index))\n",
        "\n",
        "  print(regression_loss.item())\n",
        "\n",
        "  regression_loss.backward()\n",
        "\n",
        "  optim.step()"
      ],
      "execution_count": 76,
      "outputs": [
        {
          "output_type": "display_data",
          "data": {
            "application/vnd.jupyter.widget-view+json": {
              "model_id": "4316fb4eec584dc2948b7b12c1b894fb",
              "version_minor": 0,
              "version_major": 2
            },
            "text/plain": [
              "  0%|          | 0/22500 [00:00<?, ?it/s]"
            ]
          },
          "metadata": {}
        },
        {
          "output_type": "stream",
          "name": "stdout",
          "text": [
            "0.6930776834487915\n",
            "0.8274732937709415\n"
          ]
        },
        {
          "output_type": "error",
          "ename": "KeyboardInterrupt",
          "evalue": "ignored",
          "traceback": [
            "\u001b[0;31m---------------------------------------------------------------------------\u001b[0m",
            "\u001b[0;31mKeyboardInterrupt\u001b[0m                         Traceback (most recent call last)",
            "\u001b[0;32m<ipython-input-76-8c88e4cd8ebb>\u001b[0m in \u001b[0;36m<module>\u001b[0;34m()\u001b[0m\n\u001b[1;32m     32\u001b[0m   \u001b[0mprint\u001b[0m\u001b[0;34m(\u001b[0m\u001b[0mregression_loss\u001b[0m\u001b[0;34m.\u001b[0m\u001b[0mitem\u001b[0m\u001b[0;34m(\u001b[0m\u001b[0;34m)\u001b[0m\u001b[0;34m)\u001b[0m\u001b[0;34m\u001b[0m\u001b[0;34m\u001b[0m\u001b[0m\n\u001b[1;32m     33\u001b[0m \u001b[0;34m\u001b[0m\u001b[0m\n\u001b[0;32m---> 34\u001b[0;31m   \u001b[0mregression_loss\u001b[0m\u001b[0;34m.\u001b[0m\u001b[0mbackward\u001b[0m\u001b[0;34m(\u001b[0m\u001b[0;34m)\u001b[0m\u001b[0;34m\u001b[0m\u001b[0;34m\u001b[0m\u001b[0m\n\u001b[0m\u001b[1;32m     35\u001b[0m \u001b[0;34m\u001b[0m\u001b[0m\n\u001b[1;32m     36\u001b[0m   \u001b[0moptim\u001b[0m\u001b[0;34m.\u001b[0m\u001b[0mstep\u001b[0m\u001b[0;34m(\u001b[0m\u001b[0;34m)\u001b[0m\u001b[0;34m\u001b[0m\u001b[0;34m\u001b[0m\u001b[0m\n",
            "\u001b[0;32m/usr/local/lib/python3.7/dist-packages/torch/_tensor.py\u001b[0m in \u001b[0;36mbackward\u001b[0;34m(self, gradient, retain_graph, create_graph, inputs)\u001b[0m\n\u001b[1;32m    253\u001b[0m                 \u001b[0mcreate_graph\u001b[0m\u001b[0;34m=\u001b[0m\u001b[0mcreate_graph\u001b[0m\u001b[0;34m,\u001b[0m\u001b[0;34m\u001b[0m\u001b[0;34m\u001b[0m\u001b[0m\n\u001b[1;32m    254\u001b[0m                 inputs=inputs)\n\u001b[0;32m--> 255\u001b[0;31m         \u001b[0mtorch\u001b[0m\u001b[0;34m.\u001b[0m\u001b[0mautograd\u001b[0m\u001b[0;34m.\u001b[0m\u001b[0mbackward\u001b[0m\u001b[0;34m(\u001b[0m\u001b[0mself\u001b[0m\u001b[0;34m,\u001b[0m \u001b[0mgradient\u001b[0m\u001b[0;34m,\u001b[0m \u001b[0mretain_graph\u001b[0m\u001b[0;34m,\u001b[0m \u001b[0mcreate_graph\u001b[0m\u001b[0;34m,\u001b[0m \u001b[0minputs\u001b[0m\u001b[0;34m=\u001b[0m\u001b[0minputs\u001b[0m\u001b[0;34m)\u001b[0m\u001b[0;34m\u001b[0m\u001b[0;34m\u001b[0m\u001b[0m\n\u001b[0m\u001b[1;32m    256\u001b[0m \u001b[0;34m\u001b[0m\u001b[0m\n\u001b[1;32m    257\u001b[0m     \u001b[0;32mdef\u001b[0m \u001b[0mregister_hook\u001b[0m\u001b[0;34m(\u001b[0m\u001b[0mself\u001b[0m\u001b[0;34m,\u001b[0m \u001b[0mhook\u001b[0m\u001b[0;34m)\u001b[0m\u001b[0;34m:\u001b[0m\u001b[0;34m\u001b[0m\u001b[0;34m\u001b[0m\u001b[0m\n",
            "\u001b[0;32m/usr/local/lib/python3.7/dist-packages/torch/autograd/__init__.py\u001b[0m in \u001b[0;36mbackward\u001b[0;34m(tensors, grad_tensors, retain_graph, create_graph, grad_variables, inputs)\u001b[0m\n\u001b[1;32m    147\u001b[0m     Variable._execution_engine.run_backward(\n\u001b[1;32m    148\u001b[0m         \u001b[0mtensors\u001b[0m\u001b[0;34m,\u001b[0m \u001b[0mgrad_tensors_\u001b[0m\u001b[0;34m,\u001b[0m \u001b[0mretain_graph\u001b[0m\u001b[0;34m,\u001b[0m \u001b[0mcreate_graph\u001b[0m\u001b[0;34m,\u001b[0m \u001b[0minputs\u001b[0m\u001b[0;34m,\u001b[0m\u001b[0;34m\u001b[0m\u001b[0;34m\u001b[0m\u001b[0m\n\u001b[0;32m--> 149\u001b[0;31m         allow_unreachable=True, accumulate_grad=True)  # allow_unreachable flag\n\u001b[0m\u001b[1;32m    150\u001b[0m \u001b[0;34m\u001b[0m\u001b[0m\n\u001b[1;32m    151\u001b[0m \u001b[0;34m\u001b[0m\u001b[0m\n",
            "\u001b[0;31mKeyboardInterrupt\u001b[0m: "
          ]
        },
        {
          "output_type": "display_data",
          "data": {
            "image/png": "[encoded data removed]",
            "text/plain": [
              "<Figure size 432x288 with 1 Axes>"
            ]
          },
          "metadata": {
            "needs_background": "light"
          }
        }
      ]
    },
    {
      "cell_type": "markdown",
      "metadata": {
        "id": "PYki6lDX9aPY"
      },
      "source": [
        "## Post Process"
      ]
    },
    {
      "cell_type": "markdown",
      "metadata": {
        "id": "1x89bN6i4ZZo"
      },
      "source": [
        "$$ t_x = \\frac{A_x - G_x}{A_w} $$\n",
        "\\\n",
        "$$ t_w = \\log{\\frac{G_w}{A_w}} $$"
      ]
    },
    {
      "cell_type": "code",
      "metadata": {
        "colab": {
          "base_uri": "https://localhost:8080/"
        },
        "id": "Bx90d0VO5Uyd",
        "outputId": "9e281a28-2506-439b-d41a-077eb53b8c86"
      },
      "source": [
        "pred_location_convert.shape"
      ],
      "execution_count": 70,
      "outputs": [
        {
          "output_type": "execute_result",
          "data": {
            "text/plain": [
              "(22500, 4)"
            ]
          },
          "metadata": {},
          "execution_count": 70
        }
      ]
    },
    {
      "cell_type": "code",
      "metadata": {
        "id": "9GUhgGX9CTUI"
      },
      "source": [
        "import numpy as np"
      ],
      "execution_count": 110,
      "outputs": []
    },
    {
      "cell_type": "code",
      "metadata": {
        "id": "ED6MXXRE85x4"
      },
      "source": [
        "pred_loc = pred_loc[0]\n",
        "# pred_location_convert = np.zeros_like(pred_loc)"
      ],
      "execution_count": 111,
      "outputs": []
    },
    {
      "cell_type": "code",
      "metadata": {
        "id": "3l4bO2c23HmU"
      },
      "source": [
        "# from tqdm.auto import tqdm\n",
        "\n",
        "# for idx, pred in enumerate(tqdm(pred_loc)):\n",
        "#   A_x, A_y, A_w, A_h = corner2center(anchor_boxes[idx])\n",
        "#   t_x, t_y, t_w, t_h = pred\n",
        "\n",
        "#   x = A_x - (t_x * A_w)\n",
        "#   y = A_y - (t_y * A_y)\n",
        "#   w = np.exp(t_w) * A_w\n",
        "#   h = np.exp(t_h) * A_h\n",
        "\n",
        "#   x1, y1, x2, y2 = center2corner([x, y, w, h])\n",
        "#   pred_location_convert[idx] = [x1, y1, x2, y2]\n"
      ],
      "execution_count": 112,
      "outputs": []
    },
    {
      "cell_type": "markdown",
      "metadata": {
        "id": "FFtmE4lJ9nOg"
      },
      "source": [
        "## Clip to the Image"
      ]
    },
    {
      "cell_type": "code",
      "metadata": {
        "id": "FKILjat99o9M"
      },
      "source": [
        ""
      ],
      "execution_count": null,
      "outputs": []
    },
    {
      "cell_type": "markdown",
      "metadata": {
        "id": "jzMBRir59pY7"
      },
      "source": [
        "## Filter Region Size"
      ]
    },
    {
      "cell_type": "code",
      "metadata": {
        "id": "WWPxQISC9tZU"
      },
      "source": [
        ""
      ],
      "execution_count": null,
      "outputs": []
    },
    {
      "cell_type": "markdown",
      "metadata": {
        "id": "RQXJ7qyTBgnU"
      },
      "source": [
        "## Sort Scores"
      ]
    },
    {
      "cell_type": "code",
      "metadata": {
        "colab": {
          "base_uri": "https://localhost:8080/"
        },
        "id": "xIgU-zQbBh0J",
        "outputId": "45403905-e7b4-484a-fa09-7da98eea03ff"
      },
      "source": [
        "order = objectness_score.ravel().argsort(descending=True)\n",
        "\n",
        "pred_ordered = pred_location_convert[order[:12000], :]\n",
        "pred_ordered.shape"
      ],
      "execution_count": null,
      "outputs": [
        {
          "output_type": "execute_result",
          "data": {
            "text/plain": [
              "(12000, 4)"
            ]
          },
          "metadata": {},
          "execution_count": 47
        }
      ]
    },
    {
      "cell_type": "markdown",
      "metadata": {
        "id": "8gtPEwWobJ1V"
      },
      "source": [
        "## NMS"
      ]
    },
    {
      "cell_type": "code",
      "metadata": {
        "id": "rMqETyd7Mj2U"
      },
      "source": [
        "import numpy as np\n",
        "from tqdm.auto import tqdm\n",
        "\n",
        "def NMS(boxes):\n",
        "  # boxes in order of the objectness score\n",
        "  boxes_detected = []\n",
        "  boxes_remained = np.copy(boxes)\n",
        "\n",
        "  while len(boxes_remained) > 0:\n",
        "    \n",
        "    box_detected = boxes_remained[0]\n",
        "    boxes_detected.append(box_detected)\n",
        "    \n",
        "    boxes_remained = boxes_remained[1:]\n",
        "\n",
        "    mask = np.ones(len(boxes_remained), dtype=bool)\n",
        "    idx_to_remove = []\n",
        "    \n",
        "    for idx, box in enumerate(tqdm(boxes_remained)):\n",
        "      \n",
        "      if compute_iou(box_detected, box) > 0.7:\n",
        "        idx_to_remove.append(idx)\n",
        "    \n",
        "    boxes_remained = boxes_remained[mask, ...]\n",
        "  \n",
        "  return boxes_detected[:2000]"
      ],
      "execution_count": null,
      "outputs": []
    },
    {
      "cell_type": "code",
      "metadata": {
        "id": "tJ6SFbIMZzna"
      },
      "source": [
        "# NMS(pred_ordered)"
      ],
      "execution_count": null,
      "outputs": []
    },
    {
      "cell_type": "markdown",
      "metadata": {
        "id": "hfCGzRszklM0"
      },
      "source": [
        "## Preparation for Faster R-CNN"
      ]
    },
    {
      "cell_type": "markdown",
      "metadata": {
        "id": "qYpSvma60TJA"
      },
      "source": [
        "## Sampling ROIs"
      ]
    },
    {
      "cell_type": "code",
      "metadata": {
        "id": "-BrE-DZzlXOW"
      },
      "source": [
        "ROI = np.random.rand(2000, 4)"
      ],
      "execution_count": null,
      "outputs": []
    },
    {
      "cell_type": "code",
      "metadata": {
        "id": "4qqdUJzTkmbW"
      },
      "source": [
        "anchors_iou = get_anchors_iou(\"/content/image.jpg\", \"/content/label.png\", ROI) # (number of anchors, number of gt boxes)"
      ],
      "execution_count": null,
      "outputs": []
    },
    {
      "cell_type": "code",
      "metadata": {
        "id": "pLgOQLTRsMu2"
      },
      "source": [
        "max_iou = np.max(anchors_iou, axis=-1)\n",
        "\n",
        "pos_labels = np.where(max_iou > 0.5)[0]\n",
        "\n",
        "neg_labels = np.where((max_iou > 0.1) & (max_iou < 0.5))[0]"
      ],
      "execution_count": null,
      "outputs": []
    },
    {
      "cell_type": "code",
      "metadata": {
        "id": "sSYPzdpJw188"
      },
      "source": [
        "positive_labels = np.random.choice(pos_labels, size=min(len(pos_labels), 32), replace=False)\n",
        "negative_labels = np.random.choice(neg_labels, size=min(len(neg_labels), 96), replace=False)"
      ],
      "execution_count": null,
      "outputs": []
    },
    {
      "cell_type": "code",
      "metadata": {
        "id": "7Qo0ie_WxpfQ"
      },
      "source": [
        "sample_index = np.append(positive_labels, negative_labels)\n",
        "labels = np.zeros(128)\n",
        "labels[:32] = 1\n",
        "\n",
        "ROI_labels = labels   \n",
        "sample_ROI = ROI[sample_index] "
      ],
      "execution_count": null,
      "outputs": []
    },
    {
      "cell_type": "code",
      "metadata": {
        "colab": {
          "base_uri": "https://localhost:8080/"
        },
        "id": "4COHFVHqz89h",
        "outputId": "4020857f-fe26-4c44-8058-a51fe3459084"
      },
      "source": [
        "sample_ROI.shape, ROI_labels.shape"
      ],
      "execution_count": null,
      "outputs": [
        {
          "output_type": "execute_result",
          "data": {
            "text/plain": [
              "((0, 4), (128,))"
            ]
          },
          "metadata": {},
          "execution_count": 69
        }
      ]
    },
    {
      "cell_type": "markdown",
      "metadata": {
        "id": "TwnliDqB0WlY"
      },
      "source": [
        "## Converting"
      ]
    },
    {
      "cell_type": "code",
      "metadata": {
        "id": "rfKWjVd02O51"
      },
      "source": [
        "anchor_gt = np.argmax(anchors_iou, axis=-1) # (2000)\n",
        "gt_boxes = get_bounding_box(\"/content/image.jpg\", \"/content/label.png\")"
      ],
      "execution_count": null,
      "outputs": []
    },
    {
      "cell_type": "code",
      "metadata": {
        "id": "3NyBwJgk2zNp"
      },
      "source": [
        "gt_boxes = gt_boxes[anchor_gt[sample_index]]"
      ],
      "execution_count": null,
      "outputs": []
    },
    {
      "cell_type": "code",
      "metadata": {
        "id": "ttwXIzwo0aoI"
      },
      "source": [
        "# (128, 4) in format x1, y1, x2, y2 \n",
        "# we want t_x, t_y, t_w, t_h\n",
        "gt_roi_locs = np.zeros_like(sample_ROI)\n",
        "\n",
        "for i, roi in enumerate(sample_ROI):\n",
        "  gt_roi_locs[i] = get_location(corner2center(roi), corner2center(gt_boxes[i]))"
      ],
      "execution_count": null,
      "outputs": []
    },
    {
      "cell_type": "code",
      "metadata": {
        "colab": {
          "base_uri": "https://localhost:8080/"
        },
        "id": "w_WuuUOuCKyZ",
        "outputId": "648594d1-1daf-4e89-d25c-940ba051bbdd"
      },
      "source": [
        "image_index = torch.zeros((len(sample_ROI), 1))\n",
        "rois = torch.from_numpy(sample_ROI)\n",
        "indices_and_rois = torch.cat((image_index, rois), dim=1)\n",
        "indices_and_rois.shape"
      ],
      "execution_count": null,
      "outputs": [
        {
          "output_type": "execute_result",
          "data": {
            "text/plain": [
              "torch.Size([0, 5])"
            ]
          },
          "metadata": {},
          "execution_count": 85
        }
      ]
    },
    {
      "cell_type": "markdown",
      "metadata": {
        "id": "w7vDb6T136Wp"
      },
      "source": [
        "## Fast R-CNN"
      ]
    },
    {
      "cell_type": "code",
      "metadata": {
        "colab": {
          "base_uri": "https://localhost:8080/"
        },
        "id": "p2LjPVq3Au_7",
        "outputId": "243d803e-bf29-46b6-85d1-2b3670253620"
      },
      "source": [
        "feature_map = feature_extractor(torch.randn((1, 3, 800, 800)))\n",
        "feature_map.shape"
      ],
      "execution_count": null,
      "outputs": [
        {
          "output_type": "stream",
          "name": "stderr",
          "text": [
            "/usr/local/lib/python3.7/dist-packages/torch/nn/functional.py:718: UserWarning: Named tensors and all their associated APIs are an experimental feature and subject to change. Please do not use them for anything important until they are released as stable. (Triggered internally at  /pytorch/c10/core/TensorImpl.h:1156.)\n",
            "  return torch.max_pool2d(input, kernel_size, stride, padding, dilation, ceil_mode)\n"
          ]
        },
        {
          "output_type": "execute_result",
          "data": {
            "text/plain": [
              "torch.Size([1, 512, 50, 50])"
            ]
          },
          "metadata": {},
          "execution_count": 83
        }
      ]
    },
    {
      "cell_type": "code",
      "metadata": {
        "id": "UnBmqdaiEVTN"
      },
      "source": [
        "adaptive_max_pool = nn.AdaptiveMaxPool2d((7, 7))\n",
        "# adaptive_max_pool(torch.randn(1, 512, 50, 50)).shape"
      ],
      "execution_count": null,
      "outputs": []
    },
    {
      "cell_type": "code",
      "metadata": {
        "id": "GxINu3pWCrRK"
      },
      "source": [
        "output = []\n",
        "\n",
        "for idx, roi in enumerate(indices_and_rois):\n",
        "  \n",
        "  image_index, x1, y1, x2, y2 = roi\n",
        "\n",
        "  x1, y1, x2, y2 = x1 / 16, x2 / 16, y1 / 16, y2 / 16\n",
        "  \n",
        "  im = feature_map.narrow(0, 0, 1)[..., y1:y2, x1:x2]\n",
        "\n",
        "  output.append(adaptive_max_pool(im))\n",
        "\n",
        "\n",
        "# output = torch.cat(output, 0)\n",
        "# print(output.shape)\n",
        "\n",
        "# output = output.view(128, -1)"
      ],
      "execution_count": null,
      "outputs": []
    },
    {
      "cell_type": "markdown",
      "metadata": {
        "id": "LkgZeYTdGcfY"
      },
      "source": [
        "# Head Classifier and "
      ]
    },
    {
      "cell_type": "code",
      "metadata": {
        "id": "P5JVePSoEhQf"
      },
      "source": [
        "roi_head_classifier = nn.Sequential(\n",
        "    nn.Linear(255088, 4096),\n",
        "    nn.Linear(4096, 4096)\n",
        ")\n",
        "\n",
        "cls_loc = nn.Linear(4096, 21 * 4)\n",
        "score = nn.Linear(4096, 21)"
      ],
      "execution_count": null,
      "outputs": []
    }
  ]
}